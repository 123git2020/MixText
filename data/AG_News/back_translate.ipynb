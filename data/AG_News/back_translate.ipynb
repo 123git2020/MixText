{
 "cells": [
  {
   "cell_type": "code",
   "execution_count": 4,
   "metadata": {},
   "outputs": [],
   "source": [
    "import pandas as pd\n",
    "import numpy as np\n",
    "import torch\n",
    "import pickle\n",
    "from tqdm import tqdm_notebook as tqdm\n",
    "import os\n",
    "import re\n",
    "import pickle\n",
    "from pygtrans import Translate          # 用来翻译的模块，使用google translate"
   ]
  },
  {
   "cell_type": "code",
   "execution_count": 5,
   "metadata": {},
   "outputs": [],
   "source": [
    "df=pd.read_csv(\"train_clean.csv\",header=None,names=[\"label\",\"text\"])\n",
    "txtlist=list(df[\"text\"])"
   ]
  },
  {
   "cell_type": "code",
   "execution_count": 6,
   "metadata": {},
   "outputs": [],
   "source": [
    "client = Translate()\n",
    "\n",
    "chinese=[]\n",
    "\n",
    "for i in range(20):\n",
    "    # 翻译句子\n",
    "    trans = client.translate(txtlist[i*4000:(i+1)*4000],source=\"en\")  #一次翻译4000条\n",
    "    for z in trans:\n",
    "        chinese.append(z.translatedText)"
   ]
  },
  {
   "cell_type": "code",
   "execution_count": 14,
   "metadata": {},
   "outputs": [],
   "source": [
    "with open('zh.pkl', 'wb') as file:\n",
    "      \n",
    "    # A new file will be created\n",
    "    pickle.dump(chinese, file)"
   ]
  },
  {
   "cell_type": "code",
   "execution_count": 17,
   "metadata": {},
   "outputs": [],
   "source": [
    "chinese_back=[]\n",
    "\n",
    "for i in range(20):\n",
    "    # 翻译回英文\n",
    "    trans = client.translate(chinese[i*4000:(i+1)*4000],source=\"zh\",target=\"en\")   \n",
    "    for z in trans:\n",
    "        chinese_back.append(z.translatedText)"
   ]
  },
  {
   "cell_type": "code",
   "execution_count": 18,
   "metadata": {},
   "outputs": [],
   "source": [
    "with open('zh_back.pkl', 'wb') as file:\n",
    "      \n",
    "    # A new file will be created\n",
    "    pickle.dump(chinese_back, file)"
   ]
  },
  {
   "cell_type": "code",
   "execution_count": 22,
   "metadata": {},
   "outputs": [
    {
     "name": "stdout",
     "output_type": "stream",
     "text": [
      "The decline in same-store sales slowed down in November and December, and net profit increased. \n",
      " the same-store sales decline slows in november and december, and net income increases.\n"
     ]
    }
   ],
   "source": [
    "sentence_idx=100\n",
    "\n",
    "print(chinese_back[sentence_idx],\"\\n\",txtlist[sentence_idx])"
   ]
  },
  {
   "cell_type": "code",
   "execution_count": 15,
   "metadata": {},
   "outputs": [],
   "source": [
    "with open('zh.pkl', 'rb') as file:\n",
    "      \n",
    "    # A new file will be created\n",
    "    l=pickle.load(file)"
   ]
  }
 ],
 "metadata": {
  "kernelspec": {
   "display_name": "Python 3 (ipykernel)",
   "language": "python",
   "name": "python3"
  },
  "language_info": {
   "codemirror_mode": {
    "name": "ipython",
    "version": 3
   },
   "file_extension": ".py",
   "mimetype": "text/x-python",
   "name": "python",
   "nbconvert_exporter": "python",
   "pygments_lexer": "ipython3",
   "version": "3.11.4"
  }
 },
 "nbformat": 4,
 "nbformat_minor": 4
}
