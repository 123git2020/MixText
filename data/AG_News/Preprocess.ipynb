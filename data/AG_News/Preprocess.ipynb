{
 "cells": [
  {
   "cell_type": "code",
   "execution_count": null,
   "metadata": {},
   "outputs": [],
   "source": [
    "import numpy as np\n",
    "import pandas as pd\n",
    "import torch\n",
    "import pickle\n",
    "import os\n",
    "import re\n",
    "import pickle"
   ]
  },
  {
   "cell_type": "code",
   "execution_count": null,
   "metadata": {},
   "outputs": [],
   "source": [
    "def clean_sentence(sent):\n",
    "    try:\n",
    "        sent = sent.replace('\\n', ' ').replace('\\\\n', ' ').replace('\\\\', ' ').replace('Reuters - ','').replace('AP - ','').replace('USATODAY.com - ','').replace('AFP - ','').replace(' #39;','')\n",
    "\n",
    "        sent = re.sub('<[^<]+?>', '', sent)\n",
    "        sent = re.sub('  #3\\d;', '', sent)\n",
    "        \n",
    "        return sent.lower()\n",
    "        \n",
    "    except:\n",
    "        print(sent)\n",
    "        return ' '"
   ]
  },
  {
   "cell_type": "code",
   "execution_count": null,
   "metadata": {},
   "outputs": [],
   "source": [
    "path = './'\n",
    "train_df = pd.read_csv('train.csv', header=None)\n",
    "test_df = pd.read_csv('test.csv', header=None)\n",
    "\n",
    "train_df.columns=[\"labels\", \"title\",\"text\"]\n",
    "test_df.columns=[\"labels\", \"title\",\"text\"]\n",
    "\n",
    "train_df.pop(\"title\")\n",
    "test_df.pop(\"title\")\n",
    "\n",
    "train_df.head(8)"
   ]
  },
  {
   "cell_type": "code",
   "execution_count": null,
   "metadata": {},
   "outputs": [],
   "source": [
    "print(clean_sentence(train_df[\"text\"][4]),\"\\n\")\n",
    "print(clean_sentence(train_df[\"text\"][5]))"
   ]
  },
  {
   "cell_type": "code",
   "execution_count": null,
   "metadata": {},
   "outputs": [],
   "source": [
    "train_data = {'labels':[], 'text':[]}\n",
    "test_data = {'labels':[], 'text':[]}"
   ]
  },
  {
   "cell_type": "code",
   "execution_count": null,
   "metadata": {
    "scrolled": true
   },
   "outputs": [],
   "source": [
    "for i in range(0, len(train_df)):\n",
    "    train_data['labels'].append(train_df[\"labels\"][i])\n",
    "    \n",
    "    temp = ''\n",
    "    temp = clean_sentence(train_df[\"text\"][i])\n",
    "    \n",
    "    train_data['text'].append(temp)"
   ]
  },
  {
   "cell_type": "code",
   "execution_count": null,
   "metadata": {},
   "outputs": [],
   "source": [
    "train_data"
   ]
  },
  {
   "cell_type": "code",
   "execution_count": null,
   "metadata": {},
   "outputs": [],
   "source": [
    "for i in range(0, len(test_df)):\n",
    "    test_data['labels'].append(test_df[\"labels\"][i])\n",
    "    \n",
    "    temp = ''\n",
    "    temp = clean_sentence(test_df[\"text\"][i])\n",
    "    \n",
    "    test_data['text'].append(temp)"
   ]
  },
  {
   "cell_type": "code",
   "execution_count": null,
   "metadata": {},
   "outputs": [],
   "source": [
    "test_data"
   ]
  },
  {
   "cell_type": "code",
   "execution_count": null,
   "metadata": {},
   "outputs": [],
   "source": [
    "train_df= pd.DataFrame.from_dict(train_data)\n",
    "test_df= pd.DataFrame.from_dict(test_data)"
   ]
  },
  {
   "cell_type": "code",
   "execution_count": null,
   "metadata": {},
   "outputs": [],
   "source": [
    "classes=train_df[\"labels\"].unique()\n",
    "\n",
    "trains=pd.DataFrame(columns=[\"labels\",\"text\"])\n",
    "\n",
    "for c in classes:\n",
    "    clist=np.array(train_df[train_df[\"labels\"]==c].index)\n",
    "    indices=np.random.choice(clist,20000,False)\n",
    "    trains=pd.concat([trains,train_df.iloc[indices]])\n",
    "\n",
    "trains.head()"
   ]
  },
  {
   "cell_type": "code",
   "execution_count": null,
   "metadata": {},
   "outputs": [],
   "source": [
    "classes=test_df[\"labels\"].unique()\n",
    "\n",
    "tests=pd.DataFrame(columns=[\"labels\",\"text\"])\n",
    "\n",
    "for c in classes:\n",
    "    clist=np.array(test_df[test_df[\"labels\"]==c].index)\n",
    "    indices=np.random.choice(clist,1500,False)\n",
    "    tests=pd.concat([tests,test_df.iloc[indices]])\n",
    "\n",
    "tests.head()"
   ]
  },
  {
   "cell_type": "code",
   "execution_count": null,
   "metadata": {},
   "outputs": [],
   "source": [
    "trains.to_csv('train_clean.csv',header = None, index = False)\n",
    "tests.to_csv('test_clean.csv', header = None, index = False)"
   ]
  }
 ],
 "metadata": {
  "kernelspec": {
   "display_name": "Python 3 (ipykernel)",
   "language": "python",
   "name": "python3"
  },
  "language_info": {
   "codemirror_mode": {
    "name": "ipython",
    "version": 3
   },
   "file_extension": ".py",
   "mimetype": "text/x-python",
   "name": "python",
   "nbconvert_exporter": "python",
   "pygments_lexer": "ipython3",
   "version": "3.9.0"
  }
 },
 "nbformat": 4,
 "nbformat_minor": 4
}
